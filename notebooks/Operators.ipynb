{
 "cells": [
  {
   "cell_type": "markdown",
   "source": [
    "WARNING - THERE WILL BE A LOT OF THINGS THAT ARE BAD\n",
    "PLEASE DO NOT DO THIS IN YOUR PROJECTS\n",
    "ESPECIALLY IF THIS IS ALSO MY PROJECT"
   ],
   "metadata": {
    "collapsed": false
   }
  },
  {
   "cell_type": "code",
   "execution_count": 1,
   "outputs": [],
   "source": [
    "import kotlin.IllegalArgumentException\n",
    "import java.math.BigDecimal"
   ],
   "metadata": {
    "collapsed": false,
    "ExecuteTime": {
     "end_time": "2023-10-20T11:33:25.116711Z",
     "start_time": "2023-10-20T11:33:25.058596Z"
    }
   }
  },
  {
   "cell_type": "code",
   "execution_count": 2,
   "outputs": [
    {
     "name": "stdout",
     "output_type": "stream",
     "text": [
      "-94.8363\n"
     ]
    }
   ],
   "source": [
    "val a = BigDecimal(\"1.23\")\n",
    "val b = BigDecimal(\"3.21\")\n",
    "val c = BigDecimal(\"21.37\")\n",
    "val delta = b * b - BigDecimal(\"4\") * a * c\n",
    "println(delta)"
   ],
   "metadata": {
    "collapsed": false,
    "ExecuteTime": {
     "end_time": "2023-10-20T11:33:43.810808Z",
     "start_time": "2023-10-20T11:33:43.598076Z"
    }
   }
  },
  {
   "cell_type": "code",
   "execution_count": 3,
   "outputs": [
    {
     "name": "stdout",
     "output_type": "stream",
     "text": [
      "-94.8363\n"
     ]
    }
   ],
   "source": [
    "// meanwhile in Java ...\n",
    "val delta = b.multiply(b).minus(BigDecimal(\"4\").multiply(a).multiply(c))\n",
    "println(delta)"
   ],
   "metadata": {
    "collapsed": false,
    "ExecuteTime": {
     "end_time": "2023-10-20T11:34:07.885998Z",
     "start_time": "2023-10-20T11:34:07.790636Z"
    }
   }
  },
  {
   "cell_type": "code",
   "execution_count": 4,
   "outputs": [
    {
     "name": "stdout",
     "output_type": "stream",
     "text": [
      "[1, 2, 3, 4]\n",
      "[1, 2, 3, 4]\n"
     ]
    }
   ],
   "source": [
    "println(listOf(1, 2) + listOf(3, 4))\n",
    "println(listOf(1, 2) + 3 + 4)"
   ],
   "metadata": {
    "collapsed": false,
    "ExecuteTime": {
     "end_time": "2023-10-20T11:34:20.740684Z",
     "start_time": "2023-10-20T11:34:20.556793Z"
    }
   }
  },
  {
   "cell_type": "code",
   "execution_count": 5,
   "outputs": [],
   "source": [
    "data class Item(\n",
    "    val productId: String,\n",
    "    val quantity: Int\n",
    ")\n",
    " \n",
    "val item1 = Item(\"item-1\", 1)\n",
    "val item2 = Item(\"item-1\", 2)"
   ],
   "metadata": {
    "collapsed": false,
    "ExecuteTime": {
     "end_time": "2023-10-20T11:35:50.495446Z",
     "start_time": "2023-10-20T11:35:50.316777Z"
    }
   }
  },
  {
   "cell_type": "code",
   "execution_count": 6,
   "outputs": [],
   "source": [
    "operator fun Item.plus(other: Item): Item {\n",
    "    if (this.productId != other.productId) {\n",
    "        throw IllegalArgumentException(\"cannot sum items with different product ids!\")\n",
    "    }\n",
    "    return Item(this.productId, this.quantity + other.quantity)\n",
    "}"
   ],
   "metadata": {
    "collapsed": false,
    "ExecuteTime": {
     "end_time": "2023-10-20T11:35:52.431143Z",
     "start_time": "2023-10-20T11:35:52.355136Z"
    }
   }
  },
  {
   "cell_type": "code",
   "execution_count": 7,
   "outputs": [
    {
     "name": "stdout",
     "output_type": "stream",
     "text": [
      "Item(productId=item-1, quantity=3)\n",
      "Item(productId=item-1, quantity=3)\n"
     ]
    }
   ],
   "source": [
    " println(item1.plus(item2))\n",
    " println(item1 + item2)"
   ],
   "metadata": {
    "collapsed": false,
    "ExecuteTime": {
     "end_time": "2023-10-20T11:36:24.076803Z",
     "start_time": "2023-10-20T11:36:24.022090Z"
    }
   }
  },
  {
   "cell_type": "code",
   "execution_count": 8,
   "outputs": [],
   "source": [
    "infix fun Item.dodać(other: Item): Item {\n",
    "    return this + other\n",
    "}"
   ],
   "metadata": {
    "collapsed": false,
    "ExecuteTime": {
     "end_time": "2023-10-20T11:38:38.913910Z",
     "start_time": "2023-10-20T11:38:38.878542Z"
    }
   }
  },
  {
   "cell_type": "code",
   "execution_count": 10,
   "outputs": [
    {
     "name": "stdout",
     "output_type": "stream",
     "text": [
      "Item(productId=item-1, quantity=3)\n"
     ]
    }
   ],
   "source": [
    "println(item1 dodać item2)"
   ],
   "metadata": {
    "collapsed": false,
    "ExecuteTime": {
     "end_time": "2023-10-20T11:38:51.349009Z",
     "start_time": "2023-10-20T11:38:51.307566Z"
    }
   }
  },
  {
   "cell_type": "code",
   "execution_count": 11,
   "outputs": [],
   "source": [
    "infix fun Item.`💩`(other: Item) {\n",
    "    println(\"💩💩💩\")\n",
    "}"
   ],
   "metadata": {
    "collapsed": false,
    "ExecuteTime": {
     "end_time": "2023-10-20T11:39:57.557228Z",
     "start_time": "2023-10-20T11:39:57.514999Z"
    }
   }
  },
  {
   "cell_type": "code",
   "execution_count": 12,
   "outputs": [
    {
     "name": "stdout",
     "output_type": "stream",
     "text": [
      "💩💩💩\n"
     ]
    }
   ],
   "source": [
    "item1 `💩` item2"
   ],
   "metadata": {
    "collapsed": false,
    "ExecuteTime": {
     "end_time": "2023-10-20T11:39:58.901465Z",
     "start_time": "2023-10-20T11:39:58.855321Z"
    }
   }
  },
  {
   "cell_type": "markdown",
   "source": [
    "question to audience - where does it actually make sense?"
   ],
   "metadata": {
    "collapsed": false
   }
  },
  {
   "cell_type": "code",
   "execution_count": 13,
   "outputs": [],
   "source": [
    "operator fun String.invoke(): BigDecimal {\n",
    "    return BigDecimal(\"12.34\")\n",
    "}\n",
    "\n",
    "operator fun String.invoke(liczba: Int): String {\n",
    "    return \"$this-$liczba\"\n",
    "}\n",
    "\n",
    "operator fun Int.invoke(liczba: Int): Int {\n",
    "    return this + liczba\n",
    "}"
   ],
   "metadata": {
    "collapsed": false,
    "ExecuteTime": {
     "end_time": "2023-10-20T11:42:17.442983Z",
     "start_time": "2023-10-20T11:42:17.389866Z"
    }
   }
  },
  {
   "cell_type": "code",
   "execution_count": 14,
   "outputs": [
    {
     "name": "stdout",
     "output_type": "stream",
     "text": [
      "12.34\n",
      "test-123\n",
      "10\n"
     ]
    }
   ],
   "source": [
    "println(\"WTF\"())\n",
    "println(\"test\"(123))\n",
    "println((1)(2)(3)(4))"
   ],
   "metadata": {
    "collapsed": false,
    "ExecuteTime": {
     "end_time": "2023-10-20T11:42:45.955544Z",
     "start_time": "2023-10-20T11:42:45.894917Z"
    }
   }
  },
  {
   "cell_type": "code",
   "execution_count": 17,
   "outputs": [],
   "source": [
    "data class MyInt(val raw: Int) {\n",
    "    constructor(str: String) : this(str.toInt())\n",
    "}\n",
    "\n",
    "data class MyOtherInt(val raw: Int) {\n",
    "    companion object {\n",
    "        operator fun invoke(str: String): MyOtherInt {\n",
    "            return MyOtherInt(str.toInt())\n",
    "        }\n",
    "\n",
    "        operator fun invoke(double: Double): Double {\n",
    "            return double\n",
    "        }\n",
    "    }\n",
    "}"
   ],
   "metadata": {
    "collapsed": false,
    "ExecuteTime": {
     "end_time": "2023-10-20T11:46:11.471322Z",
     "start_time": "2023-10-20T11:46:11.393866Z"
    }
   }
  },
  {
   "cell_type": "code",
   "execution_count": 18,
   "outputs": [
    {
     "name": "stdout",
     "output_type": "stream",
     "text": [
      "MyInt(raw=123)\n",
      "MyOtherInt(raw=123)\n",
      "1.23\n"
     ]
    }
   ],
   "source": [
    "val myInt = MyInt(\"123\")\n",
    "println(myInt)\n",
    "val myOtherInt = MyOtherInt(\"123\")\n",
    "println(myOtherInt)\n",
    "val notAnInt = MyOtherInt(1.23)\n",
    "println(notAnInt)"
   ],
   "metadata": {
    "collapsed": false,
    "ExecuteTime": {
     "end_time": "2023-10-20T11:46:13.306784Z",
     "start_time": "2023-10-20T11:46:13.247055Z"
    }
   }
  },
  {
   "cell_type": "code",
   "execution_count": 21,
   "outputs": [],
   "source": [
    "// will not work, because member wins with extension\n",
    "operator fun Int.plus(liczba: Int): Int {\n",
    "    return this * liczba\n",
    "}\n",
    "\n",
    "operator fun BigDecimal.plus(liczba: BigDecimal): BigDecimal {\n",
    "    return this * liczba\n",
    "}"
   ],
   "metadata": {
    "collapsed": false,
    "ExecuteTime": {
     "end_time": "2023-10-20T11:47:52.977717Z",
     "start_time": "2023-10-20T11:47:52.935423Z"
    }
   }
  },
  {
   "cell_type": "code",
   "execution_count": 22,
   "outputs": [
    {
     "data": {
      "text/plain": "9"
     },
     "execution_count": 22,
     "metadata": {},
     "output_type": "execute_result"
    }
   ],
   "source": [
    "3+3"
   ],
   "metadata": {
    "collapsed": false,
    "ExecuteTime": {
     "end_time": "2023-10-20T11:48:06.331928Z",
     "start_time": "2023-10-20T11:48:06.279695Z"
    }
   }
  },
  {
   "cell_type": "code",
   "execution_count": null,
   "outputs": [],
   "source": [],
   "metadata": {
    "collapsed": false
   }
  }
 ],
 "metadata": {
  "kernelspec": {
   "display_name": "Kotlin",
   "language": "kotlin",
   "name": "kotlin"
  },
  "language_info": {
   "name": "kotlin",
   "version": "1.9.0",
   "mimetype": "text/x-kotlin",
   "file_extension": ".kt",
   "pygments_lexer": "kotlin",
   "codemirror_mode": "text/x-kotlin",
   "nbconvert_exporter": ""
  }
 },
 "nbformat": 4,
 "nbformat_minor": 0
}
