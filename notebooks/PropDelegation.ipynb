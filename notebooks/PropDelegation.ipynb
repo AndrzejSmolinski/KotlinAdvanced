{
 "cells": [
  {
   "cell_type": "code",
   "execution_count": 1,
   "metadata": {
    "collapsed": true,
    "ExecuteTime": {
     "end_time": "2023-10-20T11:58:20.131010Z",
     "start_time": "2023-10-20T11:58:20.058112Z"
    }
   },
   "outputs": [],
   "source": [
    "import kotlin.properties.Delegates\n",
    "import kotlin.properties.ReadWriteProperty\n",
    "import kotlin.reflect.KProperty\n",
    "import java.time.Instant"
   ]
  },
  {
   "cell_type": "code",
   "execution_count": 2,
   "outputs": [],
   "source": [
    "class LazyHolder {\n",
    "    val value: String by lazy {\n",
    "        println(Instant.now().toString() + \" inicjalizacja\")\n",
    "        \"aaa\"\n",
    "    }\n",
    "}"
   ],
   "metadata": {
    "collapsed": false,
    "ExecuteTime": {
     "end_time": "2023-10-20T11:58:42.792146Z",
     "start_time": "2023-10-20T11:58:42.519985Z"
    }
   }
  },
  {
   "cell_type": "code",
   "execution_count": 3,
   "outputs": [
    {
     "name": "stdout",
     "output_type": "stream",
     "text": [
      "2023-10-20T11:58:51.548959Z stworzony obiekt\n",
      "2023-10-20T11:58:52.553892Z inicjalizacja\n",
      "aaa\n"
     ]
    }
   ],
   "source": [
    " val lazyHolder = LazyHolder()\n",
    " println(Instant.now().toString() + \" stworzony obiekt\")\n",
    " Thread.sleep(1000)\n",
    " println(lazyHolder.value)"
   ],
   "metadata": {
    "collapsed": false,
    "ExecuteTime": {
     "end_time": "2023-10-20T11:58:52.572137Z",
     "start_time": "2023-10-20T11:58:51.475944Z"
    }
   }
  },
  {
   "cell_type": "markdown",
   "source": [
    "line 43 in Lazy.kt"
   ],
   "metadata": {
    "collapsed": false
   }
  },
  {
   "cell_type": "code",
   "execution_count": 4,
   "outputs": [],
   "source": [
    "class ObservableHolder(initial: Int) {\n",
    "\n",
    "    var value: Int by Delegates.observable(initial) {\n",
    "            property, oldValue, newValue -> println(\"${property.name} changed value from $oldValue to $newValue\")\n",
    "    }\n",
    "}"
   ],
   "metadata": {
    "collapsed": false,
    "ExecuteTime": {
     "end_time": "2023-10-20T12:01:06.891039Z",
     "start_time": "2023-10-20T12:01:06.731652Z"
    }
   }
  },
  {
   "cell_type": "code",
   "execution_count": 5,
   "outputs": [
    {
     "name": "stdout",
     "output_type": "stream",
     "text": [
      "value changed value from 0 to 1\n",
      "value changed value from 1 to 11\n",
      "value changed value from 11 to 10\n"
     ]
    },
    {
     "data": {
      "text/plain": "11"
     },
     "execution_count": 5,
     "metadata": {},
     "output_type": "execute_result"
    }
   ],
   "source": [
    "val observableHolder = ObservableHolder(0)\n",
    "observableHolder.value = 1\n",
    "observableHolder.value += 10\n",
    "observableHolder.value--"
   ],
   "metadata": {
    "collapsed": false,
    "ExecuteTime": {
     "end_time": "2023-10-20T12:01:23.700379Z",
     "start_time": "2023-10-20T12:01:23.592508Z"
    }
   }
  },
  {
   "cell_type": "code",
   "execution_count": 6,
   "outputs": [],
   "source": [
    "data class InvocationCounter(\n",
    "    var getCounter: Int = 0,\n",
    "    var setCounter: Int = 0\n",
    ")\n",
    "\n",
    "class CountInvocationDelegate<T>(private var value: T, private val counter: InvocationCounter): ReadWriteProperty<Any, T> {\n",
    "\n",
    "    override fun getValue(thisRef: Any, property: KProperty<*>): T {\n",
    "        counter.getCounter++\n",
    "        return value\n",
    "    }\n",
    "\n",
    "    override fun setValue(thisRef: Any, property: KProperty<*>, value: T) {\n",
    "        counter.setCounter++\n",
    "        this.value = value\n",
    "    }\n",
    "}\n",
    "\n",
    "class CustomDelegateHolder(initialValue: Int) {\n",
    "    private val counter = InvocationCounter()\n",
    "    var value: Int by CountInvocationDelegate(initialValue, counter)    \n",
    "\n",
    "    // property delegation\n",
    "    val getCount by counter::getCounter\n",
    "    val setCount by counter::setCounter\n",
    "}"
   ],
   "metadata": {
    "collapsed": false,
    "ExecuteTime": {
     "end_time": "2023-10-20T12:04:10.077852Z",
     "start_time": "2023-10-20T12:04:09.821316Z"
    }
   }
  },
  {
   "cell_type": "code",
   "execution_count": 7,
   "outputs": [
    {
     "name": "stdout",
     "output_type": "stream",
     "text": [
      "4\n",
      "property was set 4 times\n",
      "property was get 1 times\n"
     ]
    }
   ],
   "source": [
    "val holder = CustomDelegateHolder(0)\n",
    "holder.value = 1\n",
    "holder.value = 2\n",
    "holder.value = 5\n",
    "holder.value = 4\n",
    "println(holder.value)\n",
    "\n",
    "println(\"property was set ${holder.setCount} times\")\n",
    "println(\"property was get ${holder.getCount} times\")"
   ],
   "metadata": {
    "collapsed": false,
    "ExecuteTime": {
     "end_time": "2023-10-20T12:04:13.321976Z",
     "start_time": "2023-10-20T12:04:13.252458Z"
    }
   }
  },
  {
   "cell_type": "code",
   "execution_count": null,
   "outputs": [],
   "source": [],
   "metadata": {
    "collapsed": false
   }
  }
 ],
 "metadata": {
  "kernelspec": {
   "display_name": "Kotlin",
   "language": "kotlin",
   "name": "kotlin"
  },
  "language_info": {
   "name": "kotlin",
   "version": "1.9.0",
   "mimetype": "text/x-kotlin",
   "file_extension": ".kt",
   "pygments_lexer": "kotlin",
   "codemirror_mode": "text/x-kotlin",
   "nbconvert_exporter": ""
  }
 },
 "nbformat": 4,
 "nbformat_minor": 0
}
