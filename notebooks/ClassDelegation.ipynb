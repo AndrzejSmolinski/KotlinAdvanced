{
 "cells": [
  {
   "cell_type": "code",
   "execution_count": 20,
   "metadata": {
    "collapsed": true,
    "ExecuteTime": {
     "end_time": "2023-10-20T11:55:33.530477Z",
     "start_time": "2023-10-20T11:55:33.489322Z"
    }
   },
   "outputs": [],
   "source": [
    "interface Animal {\n",
    "    fun sound(): String\n",
    "}\n",
    "\n",
    "open class Dog: Animal {\n",
    "    override fun sound() = \"hau hau\"\n",
    "}"
   ]
  },
  {
   "cell_type": "code",
   "execution_count": 21,
   "outputs": [
    {
     "name": "stdout",
     "output_type": "stream",
     "text": [
      "labrador retriever robi hau hau\n"
     ]
    }
   ],
   "source": [
    "class PureBreedDogInheritance(val breed: String): Dog()\n",
    "\n",
    "val labrador = PureBreedDogInheritance(\"labrador retriever\")\n",
    "println(\"${labrador.breed} robi ${labrador.sound()}\")"
   ],
   "metadata": {
    "collapsed": false,
    "ExecuteTime": {
     "end_time": "2023-10-20T11:55:35.342476Z",
     "start_time": "2023-10-20T11:55:35.287563Z"
    }
   }
  },
  {
   "cell_type": "code",
   "execution_count": 10,
   "outputs": [
    {
     "name": "stdout",
     "output_type": "stream",
     "text": [
      "jamniczek faficzek robi hau hau\n"
     ]
    }
   ],
   "source": [
    "class PureBreedDogComposition(private val dog: Dog, val breed: String): Animal {\n",
    "    override fun sound() = dog.sound()\n",
    "}\n",
    "\n",
    "val jamnik = PureBreedDogComposition(Dog(), \"jamniczek faficzek\")\n",
    "println(\"${jamnik.breed} robi ${jamnik.sound()}\")"
   ],
   "metadata": {
    "collapsed": false,
    "ExecuteTime": {
     "end_time": "2023-10-20T11:53:01.255095Z",
     "start_time": "2023-10-20T11:53:01.182843Z"
    }
   }
  },
  {
   "cell_type": "code",
   "execution_count": 13,
   "outputs": [
    {
     "name": "stdout",
     "output_type": "stream",
     "text": [
      "owczarek podhalański robi hau hau\n"
     ]
    }
   ],
   "source": [
    "class PureBreedDogDelegate(val breed: String): Animal by Dog()\n",
    "\n",
    "val shepherd = PureBreedDogDelegate(\"owczarek podhalański\")\n",
    "println(\"${shepherd.breed} robi ${shepherd.sound()}\")"
   ],
   "metadata": {
    "collapsed": false,
    "ExecuteTime": {
     "end_time": "2023-10-20T11:55:14.588454Z",
     "start_time": "2023-10-20T11:55:14.528550Z"
    }
   }
  },
  {
   "cell_type": "code",
   "execution_count": 22,
   "outputs": [],
   "source": [
    "class EnhancedList<T>(private val implementation: List<T>): List<T> by implementation {\n",
    "    fun splitInHalf() = Pair(implementation.subList(0, size/2), implementation.subList(size/2, size))\n",
    "}"
   ],
   "metadata": {
    "collapsed": false,
    "ExecuteTime": {
     "end_time": "2023-10-20T11:56:41.955094Z",
     "start_time": "2023-10-20T11:56:41.693590Z"
    }
   }
  },
  {
   "cell_type": "code",
   "execution_count": 23,
   "outputs": [
    {
     "name": "stdout",
     "output_type": "stream",
     "text": [
      "6\n",
      "true\n",
      "([1, 2, 3], [4, 5, 6])\n"
     ]
    }
   ],
   "source": [
    "val enhancedList = EnhancedList(arrayListOf(1,2,3,4,5,6))\n",
    "// works like regular list\n",
    "println(enhancedList.size)\n",
    "println(enhancedList.contains(1))\n",
    "// but with extra features!\n",
    "println(enhancedList.splitInHalf())"
   ],
   "metadata": {
    "collapsed": false,
    "ExecuteTime": {
     "end_time": "2023-10-20T11:56:46.925709Z",
     "start_time": "2023-10-20T11:56:46.839031Z"
    }
   }
  },
  {
   "cell_type": "code",
   "execution_count": null,
   "outputs": [],
   "source": [],
   "metadata": {
    "collapsed": false
   }
  }
 ],
 "metadata": {
  "kernelspec": {
   "display_name": "Kotlin",
   "language": "kotlin",
   "name": "kotlin"
  },
  "language_info": {
   "name": "kotlin",
   "version": "1.9.0",
   "mimetype": "text/x-kotlin",
   "file_extension": ".kt",
   "pygments_lexer": "kotlin",
   "codemirror_mode": "text/x-kotlin",
   "nbconvert_exporter": ""
  }
 },
 "nbformat": 4,
 "nbformat_minor": 0
}
